{
 "cells": [
  {
   "cell_type": "markdown",
   "metadata": {},
   "source": [
    "#Input & Output\n"
   ]
  },
  {
   "cell_type": "markdown",
   "metadata": {},
   "source": [
    "-----------------------------------\n",
    "*Input*\n",
    "\n",
    "Using input function user can enter data in to the python required function.\n",
    "INput can be of any format or data type."
   ]
  },
  {
   "cell_type": "code",
   "execution_count": 3,
   "metadata": {},
   "outputs": [
    {
     "name": "stdout",
     "output_type": "stream",
     "text": [
      "Enter First Namepython_user_1\n",
      "python_user_1\n"
     ]
    }
   ],
   "source": [
    "string1 = input(\"Enter First Name\")\n",
    "print(string1)"
   ]
  },
  {
   "cell_type": "code",
   "execution_count": 5,
   "metadata": {},
   "outputs": [
    {
     "name": "stdout",
     "output_type": "stream",
     "text": [
      "Enter only interger number5\n",
      "5\n"
     ]
    }
   ],
   "source": [
    "num1 = int(input(\"Enter only interger number\"))\n",
    "print(num1)"
   ]
  },
  {
   "cell_type": "markdown",
   "metadata": {},
   "source": [
    "-------------------------------------\n",
    "*OutPut*\n",
    "\n",
    "For OutPut use print keyword to show data to console."
   ]
  },
  {
   "cell_type": "code",
   "execution_count": null,
   "metadata": {},
   "outputs": [],
   "source": [
    "print(\"Hello Python3.0 World !!\")"
   ]
  },
  {
   "cell_type": "code",
   "execution_count": 7,
   "metadata": {},
   "outputs": [
    {
     "name": "stdout",
     "output_type": "stream",
     "text": [
      "In February 1991, Van Rossum published the code to alt.sources  and labeled version is -  0.9.0\n"
     ]
    }
   ],
   "source": [
    "print(\"In February 1991, Van Rossum published the code to alt.sources  and labeled version is - \",str('0.9.0'))"
   ]
  },
  {
   "cell_type": "code",
   "execution_count": 12,
   "metadata": {},
   "outputs": [
    {
     "name": "stdout",
     "output_type": "stream",
     "text": [
      "By version 1.4 , Python had acquired several new features.\n"
     ]
    }
   ],
   "source": [
    "version=1.4\n",
    "print(\"By version {} , Python had acquired several new features.\".format(version))"
   ]
  },
  {
   "cell_type": "code",
   "execution_count": 13,
   "metadata": {},
   "outputs": [
    {
     "name": "stdout",
     "output_type": "stream",
     "text": [
      "The last version released while Van Rossum was at CWI was Python 1.2 In 1995.\n"
     ]
    }
   ],
   "source": [
    "year = 1995;version=1.2;\n",
    "print(\"The last version released while Van Rossum was at CWI was Python {1} In {0}.\".format(year,version))"
   ]
  },
  {
   "cell_type": "code",
   "execution_count": 15,
   "metadata": {},
   "outputs": [
    {
     "name": "stdout",
     "output_type": "stream",
     "text": [
      "In 2000, the Python core development team moved to BeOpen.com to form the BeOpen PythonLabs team.\n"
     ]
    }
   ],
   "source": [
    "\n",
    "print(\"In 2000, the Python core development team moved to {team0} to form the BeOpen {team1} team.\".format(team1 = \"PythonLabs\",team0 = \"BeOpen.com\"))"
   ]
  },
  {
   "cell_type": "code",
   "execution_count": 16,
   "metadata": {},
   "outputs": [
    {
     "name": "stdout",
     "output_type": "stream",
     "text": [
      "In 2000, the Python core development team moved to BeOpen.com to form the BeOpen PythonLabs team.\n"
     ]
    }
   ],
   "source": [
    "print(\"In {0}, the Python core development team moved to {team0} to form the BeOpen {team1} team.\".format(\"2000\",team1 = \"PythonLabs\",team0 = \"BeOpen.com\"))"
   ]
  }
 ],
 "metadata": {
  "kernelspec": {
   "display_name": "Python 3",
   "language": "python",
   "name": "python3"
  },
  "language_info": {
   "codemirror_mode": {
    "name": "ipython",
    "version": 3
   },
   "file_extension": ".py",
   "mimetype": "text/x-python",
   "name": "python",
   "nbconvert_exporter": "python",
   "pygments_lexer": "ipython3",
   "version": "3.6.10"
  }
 },
 "nbformat": 4,
 "nbformat_minor": 4
}
