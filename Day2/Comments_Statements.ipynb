{
 "cells": [
  {
   "cell_type": "markdown",
   "metadata": {},
   "source": [
    "#DocString\n",
    "\n",
    "\n",
    "\n",
    "Docstring is short for documentation string.\n",
    "\n",
    "It is a string that occurs as the first statement in a module, function, class, or method definition.\n"
   ]
  },
  {
   "cell_type": "code",
   "execution_count": 6,
   "metadata": {},
   "outputs": [
    {
     "name": "stdout",
     "output_type": "stream",
     "text": [
      "6\n"
     ]
    }
   ],
   "source": [
    "def summ(num,num1):\n",
    "    \"\"\"\n",
    "    function returning sum of number\n",
    "    \"\"\"\n",
    "    return (num+num1)\n",
    "\n",
    "print(summ(5,1))"
   ]
  },
  {
   "cell_type": "markdown",
   "metadata": {},
   "source": [
    "#Single Line Comment\n",
    "\n",
    "It is using # symbol in the begining of described line "
   ]
  },
  {
   "cell_type": "code",
   "execution_count": 12,
   "metadata": {},
   "outputs": [],
   "source": [
    "#The programming language Python was conceived in the late 1980s"
   ]
  },
  {
   "cell_type": "markdown",
   "metadata": {},
   "source": [
    "#MultiLine Comment\n",
    "\n",
    "One way for this is using # for each lines\n",
    "Another way is using \"\"\" ...text.... \"\"\""
   ]
  },
  {
   "cell_type": "code",
   "execution_count": 11,
   "metadata": {},
   "outputs": [],
   "source": [
    "#Python 3.0, a major, backwards-incompatible release, was released on December 3,\n",
    "#2008[9] after a long period of testing"
   ]
  },
  {
   "cell_type": "code",
   "execution_count": 10,
   "metadata": {},
   "outputs": [
    {
     "data": {
      "text/plain": [
       "'\\nPython 2.0 was released on October 16, 2000, with many major new features, \\nincluding a cycle-detecting garbage collector (in addition to reference counting) \\nfor memory management and support for Unicode. '"
      ]
     },
     "execution_count": 10,
     "metadata": {},
     "output_type": "execute_result"
    }
   ],
   "source": [
    "\"\"\"\n",
    "Python 2.0 was released on October 16, 2000, with many major new features, \n",
    "including a cycle-detecting garbage collector (in addition to reference counting) \n",
    "for memory management and support for Unicode. \"\"\""
   ]
  },
  {
   "cell_type": "markdown",
   "metadata": {},
   "source": [
    "#Single Line Statment"
   ]
  },
  {
   "cell_type": "code",
   "execution_count": 13,
   "metadata": {},
   "outputs": [
    {
     "name": "stdout",
     "output_type": "stream",
     "text": [
      "1\n"
     ]
    }
   ],
   "source": [
    "a=1\n",
    "print(a)"
   ]
  },
  {
   "cell_type": "markdown",
   "metadata": {},
   "source": [
    "#MultiLine Statement"
   ]
  },
  {
   "cell_type": "code",
   "execution_count": 14,
   "metadata": {},
   "outputs": [
    {
     "name": "stdout",
     "output_type": "stream",
     "text": [
      "ram lalkrishnaheerwala\n"
     ]
    }
   ],
   "source": [
    "full_name = \"ram lal\\\n",
    "krishna \\\n",
    "heerwala \"\n",
    "print(full_name)"
   ]
  },
  {
   "cell_type": "code",
   "execution_count": 15,
   "metadata": {},
   "outputs": [
    {
     "name": "stdout",
     "output_type": "stream",
     "text": [
      "10 20 30\n"
     ]
    }
   ],
   "source": [
    "a = 10; b = 20; c = 30   #put multiple statements in a single line using ;\n",
    "print(a,b,c)"
   ]
  }
 ],
 "metadata": {
  "kernelspec": {
   "display_name": "Python 3",
   "language": "python",
   "name": "python3"
  },
  "language_info": {
   "codemirror_mode": {
    "name": "ipython",
    "version": 3
   },
   "file_extension": ".py",
   "mimetype": "text/x-python",
   "name": "python",
   "nbconvert_exporter": "python",
   "pygments_lexer": "ipython3",
   "version": "3.6.10"
  }
 },
 "nbformat": 4,
 "nbformat_minor": 4
}
