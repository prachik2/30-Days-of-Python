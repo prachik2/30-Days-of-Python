{
 "cells": [
  {
   "cell_type": "code",
   "execution_count": 1,
   "metadata": {},
   "outputs": [
    {
     "name": "stdout",
     "output_type": "stream",
     "text": [
      "Hello\n"
     ]
    }
   ],
   "source": [
    "print(\"Hello\")"
   ]
  },
  {
   "cell_type": "markdown",
   "metadata": {},
   "source": [
    "#Operaters\n",
    "\n",
    "Operators are special symbols in Python that carry out arithmetic or logical computation. The value that the operator operates on is called the operand.\n",
    "\n",
    "*Types\n",
    "\n",
    "    + Arithmetic operators\n",
    "\n",
    "    + Comparison (Relational) operators\n",
    " \n",
    "    + Logical (Boolean) operators\n",
    "\n",
    "    + Bitwise operators\n",
    "\n",
    "    + Assignment operators\n",
    "\n",
    "    + Special operators"
   ]
  },
  {
   "cell_type": "markdown",
   "metadata": {},
   "source": [
    "----------------------------------------------------------\n",
    "*Arithmetic Operators\n",
    "\n",
    "Arithmetic operators are used to perform mathematical operations like addition, subtraction, multiplication etc.\n",
    "\n",
    "-,+,*, /, %, //, **  are arithmetic operators"
   ]
  },
  {
   "cell_type": "code",
   "execution_count": 4,
   "metadata": {},
   "outputs": [
    {
     "name": "stdout",
     "output_type": "stream",
     "text": [
      "30\n",
      "10\n",
      "200\n",
      "0\n",
      "100000000000000000000\n"
     ]
    }
   ],
   "source": [
    "a=10\n",
    "b=20\n",
    "print(a+b)\n",
    "print(b-a)\n",
    "print(a*b)\n",
    "print(a//b)\n",
    "print(a**b)"
   ]
  },
  {
   "cell_type": "markdown",
   "metadata": {},
   "source": [
    "---------------------------------------------------------------\n",
    "*Comparision Operators\n",
    "\n",
    "Comparison operators are used to compare values. It either returns True or False according to the condition.\n",
    " <,>, ==, !=, >=, <= are comparision operators"
   ]
  },
  {
   "cell_type": "code",
   "execution_count": 6,
   "metadata": {},
   "outputs": [
    {
     "name": "stdout",
     "output_type": "stream",
     "text": [
      "True\n",
      "False\n",
      "False\n",
      "True\n"
     ]
    }
   ],
   "source": [
    "a=5\n",
    "b=6\n",
    "print(b>a)\n",
    "print(a>b)\n",
    "print(a==b)\n",
    "print(a!=b)\n"
   ]
  },
  {
   "cell_type": "markdown",
   "metadata": {},
   "source": [
    "----------------------------------------------------------------------\n",
    "*Logical Operators\n",
    "\n",
    "Logical operators are and, or, not operators."
   ]
  },
  {
   "cell_type": "code",
   "execution_count": 7,
   "metadata": {},
   "outputs": [
    {
     "name": "stdout",
     "output_type": "stream",
     "text": [
      "2\n",
      "10\n"
     ]
    }
   ],
   "source": [
    "a=10\n",
    "b=2\n",
    "print(a and b)\n",
    "print(a or b)\n"
   ]
  }
 ],
 "metadata": {
  "kernelspec": {
   "display_name": "Python 3",
   "language": "python",
   "name": "python3"
  },
  "language_info": {
   "codemirror_mode": {
    "name": "ipython",
    "version": 3
   },
   "file_extension": ".py",
   "mimetype": "text/x-python",
   "name": "python",
   "nbconvert_exporter": "python",
   "pygments_lexer": "ipython3",
   "version": "3.6.10"
  }
 },
 "nbformat": 4,
 "nbformat_minor": 4
}
